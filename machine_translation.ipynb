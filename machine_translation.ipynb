{
 "cells": [
  {
   "cell_type": "markdown",
   "metadata": {
    "collapsed": true
   },
   "source": [
    "# Artificial Intelligence Nanodegree\n",
    "## Machine Translation Project\n",
    "In this notebook, sections that end with **'(IMPLEMENTATION)'** in the header indicate that the following blocks of code will require additional functionality which you must provide. Please be sure to read the instructions carefully!\n",
    "\n",
    "## Introduction\n",
    "In this notebook, you will build a deep neural network that functions as part of an end-to-end machine translation pipeline. Your completed pipeline will accept English text as input and return the French translation.\n",
    "\n",
    "- **Preprocess** - You'll convert text to sequence of integers.\n",
    "- **Models** Create models which accepts a sequence of integers as input and returns a probability distribution over possible translations. After learning about the basic types of neural networks that are often used for machine translation, you will engage in your own investigations, to design your own model!\n",
    "- **Prediction** Run the model on English text."
   ]
  },
  {
   "cell_type": "code",
   "execution_count": 1,
   "metadata": {},
   "outputs": [],
   "source": [
    "%load_ext autoreload\n",
    "%aimport helper, tests\n",
    "%autoreload 1"
   ]
  },
  {
   "cell_type": "code",
   "execution_count": 3,
   "metadata": {},
   "outputs": [],
   "source": [
    "import collections\n",
    "\n",
    "import helper\n",
    "import numpy as np\n",
    "import project_tests as tests\n",
    "\n",
    "from keras.preprocessing.text import Tokenizer\n",
    "from keras.preprocessing.sequence import pad_sequences\n",
    "from keras.models import Model\n",
    "from keras.layers import GRU, Input, Dense, TimeDistributed, Activation, RepeatVector, Bidirectional\n",
    "from keras.layers.embeddings import Embedding\n",
    "from keras.optimizers import Adam\n",
    "from keras.losses import sparse_categorical_crossentropy"
   ]
  },
  {
   "cell_type": "markdown",
   "metadata": {},
   "source": [
    "### Verify access to the GPU\n",
    "The following test applies only if you expect to be using a GPU, e.g., while running in a Udacity Workspace or using an AWS instance with GPU support. Run the next cell, and verify that the device_type is \"GPU\".\n",
    "- If the device is not GPU & you are running from a Udacity Workspace, then save your workspace with the icon at the top, then click \"enable\" at the bottom of the workspace.\n",
    "- If the device is not GPU & you are running from an AWS instance, then refer to the cloud computing instructions in the classroom to verify your setup steps."
   ]
  },
  {
   "cell_type": "code",
   "execution_count": 4,
   "metadata": {},
   "outputs": [
    {
     "name": "stdout",
     "output_type": "stream",
     "text": [
      "[name: \"/cpu:0\"\n",
      "device_type: \"CPU\"\n",
      "memory_limit: 268435456\n",
      "locality {\n",
      "}\n",
      "incarnation: 13799542385446444587\n",
      ", name: \"/gpu:0\"\n",
      "device_type: \"GPU\"\n",
      "memory_limit: 357302272\n",
      "locality {\n",
      "  bus_id: 1\n",
      "}\n",
      "incarnation: 7820372635673363647\n",
      "physical_device_desc: \"device: 0, name: Tesla K80, pci bus id: 0000:00:04.0\"\n",
      "]\n"
     ]
    }
   ],
   "source": [
    "from tensorflow.python.client import device_lib\n",
    "print(device_lib.list_local_devices())"
   ]
  },
  {
   "cell_type": "markdown",
   "metadata": {},
   "source": [
    "## Dataset\n",
    "We begin by investigating the dataset that will be used to train and evaluate your pipeline.  The most common datasets used for machine translation are from [WMT](http://www.statmt.org/).  However, that will take a long time to train a neural network on.  We'll be using a dataset we created for this project that contains a small vocabulary.  You'll be able to train your model in a reasonable time with this dataset.\n",
    "### Load Data\n",
    "The data is located in `data/small_vocab_en` and `data/small_vocab_fr`. The `small_vocab_en` file contains English sentences with their French translations in the `small_vocab_fr` file. Load the English and French data from these files from running the cell below."
   ]
  },
  {
   "cell_type": "code",
   "execution_count": 5,
   "metadata": {},
   "outputs": [
    {
     "name": "stdout",
     "output_type": "stream",
     "text": [
      "Dataset Loaded\n"
     ]
    }
   ],
   "source": [
    "# Load English data\n",
    "english_sentences = helper.load_data('data/small_vocab_en')\n",
    "# Load French data\n",
    "french_sentences = helper.load_data('data/small_vocab_fr')\n",
    "\n",
    "print('Dataset Loaded')"
   ]
  },
  {
   "cell_type": "markdown",
   "metadata": {},
   "source": [
    "### Files\n",
    "Each line in `small_vocab_en` contains an English sentence with the respective translation in each line of `small_vocab_fr`.  View the first two lines from each file."
   ]
  },
  {
   "cell_type": "code",
   "execution_count": 6,
   "metadata": {},
   "outputs": [
    {
     "name": "stdout",
     "output_type": "stream",
     "text": [
      "small_vocab_en Line 1:  new jersey is sometimes quiet during autumn , and it is snowy in april .\n",
      "small_vocab_fr Line 1:  new jersey est parfois calme pendant l' automne , et il est neigeux en avril .\n",
      "small_vocab_en Line 2:  the united states is usually chilly during july , and it is usually freezing in november .\n",
      "small_vocab_fr Line 2:  les états-unis est généralement froid en juillet , et il gèle habituellement en novembre .\n"
     ]
    }
   ],
   "source": [
    "for sample_i in range(2):\n",
    "    print('small_vocab_en Line {}:  {}'.format(sample_i + 1, english_sentences[sample_i]))\n",
    "    print('small_vocab_fr Line {}:  {}'.format(sample_i + 1, french_sentences[sample_i]))"
   ]
  },
  {
   "cell_type": "markdown",
   "metadata": {},
   "source": [
    "From looking at the sentences, you can see they have been preprocessed already.  The puncuations have been delimited using spaces. All the text have been converted to lowercase.  This should save you some time, but the text requires more preprocessing.\n",
    "### Vocabulary\n",
    "The complexity of the problem is determined by the complexity of the vocabulary.  A more complex vocabulary is a more complex problem.  Let's look at the complexity of the dataset we'll be working with."
   ]
  },
  {
   "cell_type": "code",
   "execution_count": 7,
   "metadata": {},
   "outputs": [
    {
     "name": "stdout",
     "output_type": "stream",
     "text": [
      "1823250 English words.\n",
      "227 unique English words.\n",
      "10 Most common words in the English dataset:\n",
      "\"is\" \",\" \".\" \"in\" \"it\" \"during\" \"the\" \"but\" \"and\" \"sometimes\"\n",
      "\n",
      "1961295 French words.\n",
      "355 unique French words.\n",
      "10 Most common words in the French dataset:\n",
      "\"est\" \".\" \",\" \"en\" \"il\" \"les\" \"mais\" \"et\" \"la\" \"parfois\"\n"
     ]
    }
   ],
   "source": [
    "english_words_counter = collections.Counter([word for sentence in english_sentences for word in sentence.split()])\n",
    "french_words_counter = collections.Counter([word for sentence in french_sentences for word in sentence.split()])\n",
    "\n",
    "print('{} English words.'.format(len([word for sentence in english_sentences for word in sentence.split()])))\n",
    "print('{} unique English words.'.format(len(english_words_counter)))\n",
    "print('10 Most common words in the English dataset:')\n",
    "print('\"' + '\" \"'.join(list(zip(*english_words_counter.most_common(10)))[0]) + '\"')\n",
    "print()\n",
    "print('{} French words.'.format(len([word for sentence in french_sentences for word in sentence.split()])))\n",
    "print('{} unique French words.'.format(len(french_words_counter)))\n",
    "print('10 Most common words in the French dataset:')\n",
    "print('\"' + '\" \"'.join(list(zip(*french_words_counter.most_common(10)))[0]) + '\"')"
   ]
  },
  {
   "cell_type": "markdown",
   "metadata": {},
   "source": [
    "For comparison, _Alice's Adventures in Wonderland_ contains 2,766 unique words of a total of 15,500 words.\n",
    "## Preprocess\n",
    "For this project, you won't use text data as input to your model. Instead, you'll convert the text into sequences of integers using the following preprocess methods:\n",
    "1. Tokenize the words into ids\n",
    "2. Add padding to make all the sequences the same length.\n",
    "\n",
    "Time to start preprocessing the data...\n",
    "### Tokenize (IMPLEMENTATION)\n",
    "For a neural network to predict on text data, it first has to be turned into data it can understand. Text data like \"dog\" is a sequence of ASCII character encodings.  Since a neural network is a series of multiplication and addition operations, the input data needs to be number(s).\n",
    "\n",
    "We can turn each character into a number or each word into a number.  These are called character and word ids, respectively.  Character ids are used for character level models that generate text predictions for each character.  A word level model uses word ids that generate text predictions for each word.  Word level models tend to learn better, since they are lower in complexity, so we'll use those.\n",
    "\n",
    "Turn each sentence into a sequence of words ids using Keras's [`Tokenizer`](https://keras.io/preprocessing/text/#tokenizer) function. Use this function to tokenize `english_sentences` and `french_sentences` in the cell below.\n",
    "\n",
    "Running the cell will run `tokenize` on sample data and show output for debugging."
   ]
  },
  {
   "cell_type": "code",
   "execution_count": 8,
   "metadata": {},
   "outputs": [
    {
     "name": "stdout",
     "output_type": "stream",
     "text": [
      "{'the': 1, 'quick': 2, 'a': 3, 'brown': 4, 'fox': 5, 'jumps': 6, 'over': 7, 'lazy': 8, 'dog': 9, 'by': 10, 'jove': 11, 'my': 12, 'study': 13, 'of': 14, 'lexicography': 15, 'won': 16, 'prize': 17, 'this': 18, 'is': 19, 'short': 20, 'sentence': 21}\n",
      "\n",
      "Sequence 1 in x\n",
      "  Input:  The quick brown fox jumps over the lazy dog .\n",
      "  Output: [1, 2, 4, 5, 6, 7, 1, 8, 9]\n",
      "Sequence 2 in x\n",
      "  Input:  By Jove , my quick study of lexicography won a prize .\n",
      "  Output: [10, 11, 12, 2, 13, 14, 15, 16, 3, 17]\n",
      "Sequence 3 in x\n",
      "  Input:  This is a short sentence .\n",
      "  Output: [18, 19, 3, 20, 21]\n"
     ]
    }
   ],
   "source": [
    "def tokenize(x):\n",
    "    \"\"\"\n",
    "    Tokenize x\n",
    "    :param x: List of sentences/strings to be tokenized\n",
    "    :return: Tuple of (tokenized x data, tokenizer used to tokenize x)\n",
    "    \"\"\"\n",
    "    # TODO: Implement\n",
    "    tokenizer = Tokenizer()\n",
    "    tokenizer.fit_on_texts(x)\n",
    "    tokenized_sentences = tokenizer.texts_to_sequences(x)\n",
    "\n",
    "    return tokenized_sentences, tokenizer\n",
    "tests.test_tokenize(tokenize)\n",
    "\n",
    "# Tokenize Example output\n",
    "text_sentences = [\n",
    "    'The quick brown fox jumps over the lazy dog .',\n",
    "    'By Jove , my quick study of lexicography won a prize .',\n",
    "    'This is a short sentence .']\n",
    "text_tokenized, text_tokenizer = tokenize(text_sentences)\n",
    "print(text_tokenizer.word_index)\n",
    "print()\n",
    "for sample_i, (sent, token_sent) in enumerate(zip(text_sentences, text_tokenized)):\n",
    "    print('Sequence {} in x'.format(sample_i + 1))\n",
    "    print('  Input:  {}'.format(sent))\n",
    "    print('  Output: {}'.format(token_sent))"
   ]
  },
  {
   "cell_type": "markdown",
   "metadata": {},
   "source": [
    "### Padding (IMPLEMENTATION)\n",
    "When batching the sequence of word ids together, each sequence needs to be the same length.  Since sentences are dynamic in length, we can add padding to the end of the sequences to make them the same length.\n",
    "\n",
    "Make sure all the English sequences have the same length and all the French sequences have the same length by adding padding to the **end** of each sequence using Keras's [`pad_sequences`](https://keras.io/preprocessing/sequence/#pad_sequences) function."
   ]
  },
  {
   "cell_type": "code",
   "execution_count": 9,
   "metadata": {},
   "outputs": [
    {
     "name": "stdout",
     "output_type": "stream",
     "text": [
      "Sequence 1 in x\n",
      "  Input:  [1 2 4 5 6 7 1 8 9]\n",
      "  Output: [1 2 4 5 6 7 1 8 9 0]\n",
      "Sequence 2 in x\n",
      "  Input:  [10 11 12  2 13 14 15 16  3 17]\n",
      "  Output: [10 11 12  2 13 14 15 16  3 17]\n",
      "Sequence 3 in x\n",
      "  Input:  [18 19  3 20 21]\n",
      "  Output: [18 19  3 20 21  0  0  0  0  0]\n"
     ]
    }
   ],
   "source": [
    "def pad(x, length=None):\n",
    "    \"\"\"\n",
    "    Pad x\n",
    "    :param x: List of sequences.\n",
    "    :param length: Length to pad the sequence to.  If None, use length of longest sequence in x.\n",
    "    :return: Padded numpy array of sequences\n",
    "    \"\"\"\n",
    "    # TODO: Implement\n",
    "    padded_sequences = pad_sequences(x, maxlen=length, padding='post')\n",
    "    return padded_sequences\n",
    "tests.test_pad(pad)\n",
    "\n",
    "# Pad Tokenized output\n",
    "test_pad = pad(text_tokenized)\n",
    "for sample_i, (token_sent, pad_sent) in enumerate(zip(text_tokenized, test_pad)):\n",
    "    print('Sequence {} in x'.format(sample_i + 1))\n",
    "    print('  Input:  {}'.format(np.array(token_sent)))\n",
    "    print('  Output: {}'.format(pad_sent))"
   ]
  },
  {
   "cell_type": "markdown",
   "metadata": {},
   "source": [
    "### Preprocess Pipeline\n",
    "Your focus for this project is to build neural network architecture, so we won't ask you to create a preprocess pipeline.  Instead, we've provided you with the implementation of the `preprocess` function."
   ]
  },
  {
   "cell_type": "code",
   "execution_count": 16,
   "metadata": {},
   "outputs": [
    {
     "data": {
      "text/plain": [
       "array([[17, 23,  1, ..., 44,  0,  0],\n",
       "       [ 5, 20, 21, ..., 51,  2, 45],\n",
       "       [22,  1,  9, ..., 34,  0,  0],\n",
       "       ..., \n",
       "       [24,  1, 10, ..., 54,  0,  0],\n",
       "       [ 5, 84,  1, ...,  0,  0,  0],\n",
       "       [ 0,  0,  0, ...,  0,  0,  0]], dtype=int32)"
      ]
     },
     "execution_count": 16,
     "metadata": {},
     "output_type": "execute_result"
    }
   ],
   "source": [
    "preproc_english_sentences"
   ]
  },
  {
   "cell_type": "code",
   "execution_count": 19,
   "metadata": {},
   "outputs": [],
   "source": [
    "preprocess_x, x_tk = tokenize(english_sentences)\n",
    "preprocess_x = pad(preprocess_x, length=21)"
   ]
  },
  {
   "cell_type": "code",
   "execution_count": 20,
   "metadata": {},
   "outputs": [
    {
     "data": {
      "text/plain": [
       "array([[17, 23,  1, ...,  0,  0,  0],\n",
       "       [ 5, 20, 21, ...,  0,  0,  0],\n",
       "       [22,  1,  9, ...,  0,  0,  0],\n",
       "       ..., \n",
       "       [24,  1, 10, ...,  0,  0,  0],\n",
       "       [ 5, 84,  1, ...,  0,  0,  0],\n",
       "       [ 0,  0,  0, ...,  0,  0,  0]], dtype=int32)"
      ]
     },
     "execution_count": 20,
     "metadata": {},
     "output_type": "execute_result"
    }
   ],
   "source": [
    "preprocess_x"
   ]
  },
  {
   "cell_type": "code",
   "execution_count": 10,
   "metadata": {},
   "outputs": [
    {
     "name": "stdout",
     "output_type": "stream",
     "text": [
      "Data Preprocessed\n",
      "Max English sentence length: 15\n",
      "Max French sentence length: 21\n",
      "English vocabulary size: 199\n",
      "French vocabulary size: 344\n"
     ]
    }
   ],
   "source": [
    "def preprocess(x, y):\n",
    "    \"\"\"\n",
    "    Preprocess x and y\n",
    "    :param x: Feature List of sentences\n",
    "    :param y: Label List of sentences\n",
    "    :return: Tuple of (Preprocessed x, Preprocessed y, x tokenizer, y tokenizer)\n",
    "    \"\"\"\n",
    "    preprocess_x, x_tk = tokenize(x)\n",
    "    preprocess_y, y_tk = tokenize(y)\n",
    "\n",
    "    preprocess_x = pad(preprocess_x)\n",
    "    preprocess_y = pad(preprocess_y)\n",
    "\n",
    "    # Keras's sparse_categorical_crossentropy function requires the labels to be in 3 dimensions\n",
    "    preprocess_y = preprocess_y.reshape(*preprocess_y.shape, 1)\n",
    "\n",
    "    return preprocess_x, preprocess_y, x_tk, y_tk\n",
    "\n",
    "preproc_english_sentences, preproc_french_sentences, english_tokenizer, french_tokenizer =\\\n",
    "    preprocess(english_sentences, french_sentences)\n",
    "    \n",
    "max_english_sequence_length = preproc_english_sentences.shape[1]\n",
    "max_french_sequence_length = preproc_french_sentences.shape[1]\n",
    "english_vocab_size = len(english_tokenizer.word_index)\n",
    "french_vocab_size = len(french_tokenizer.word_index)\n",
    "\n",
    "print('Data Preprocessed')\n",
    "print(\"Max English sentence length:\", max_english_sequence_length)\n",
    "print(\"Max French sentence length:\", max_french_sequence_length)\n",
    "print(\"English vocabulary size:\", english_vocab_size)\n",
    "print(\"French vocabulary size:\", french_vocab_size)"
   ]
  },
  {
   "cell_type": "markdown",
   "metadata": {},
   "source": [
    "## Models\n",
    "In this section, you will experiment with various neural network architectures.\n",
    "You will begin by training four relatively simple architectures.\n",
    "- Model 1 is a simple RNN\n",
    "- Model 2 is a RNN with Embedding\n",
    "- Model 3 is a Bidirectional RNN\n",
    "- Model 4 is an optional Encoder-Decoder RNN\n",
    "\n",
    "After experimenting with the four simple architectures, you will construct a deeper architecture that is designed to outperform all four models.\n",
    "### Ids Back to Text\n",
    "The neural network will be translating the input to words ids, which isn't the final form we want.  We want the French translation.  The function `logits_to_text` will bridge the gab between the logits from the neural network to the French translation.  You'll be using this function to better understand the output of the neural network."
   ]
  },
  {
   "cell_type": "code",
   "execution_count": 11,
   "metadata": {},
   "outputs": [
    {
     "name": "stdout",
     "output_type": "stream",
     "text": [
      "`logits_to_text` function loaded.\n"
     ]
    }
   ],
   "source": [
    "def logits_to_text(logits, tokenizer):\n",
    "    \"\"\"\n",
    "    Turn logits from a neural network into text using the tokenizer\n",
    "    :param logits: Logits from a neural network\n",
    "    :param tokenizer: Keras Tokenizer fit on the labels\n",
    "    :return: String that represents the text of the logits\n",
    "    \"\"\"\n",
    "    index_to_words = {id: word for word, id in tokenizer.word_index.items()}\n",
    "    index_to_words[0] = '<PAD>'\n",
    "\n",
    "    return ' '.join([index_to_words[prediction] for prediction in np.argmax(logits, 1)])\n",
    "\n",
    "print('`logits_to_text` function loaded.')"
   ]
  },
  {
   "cell_type": "markdown",
   "metadata": {},
   "source": [
    "### Model 1: RNN (IMPLEMENTATION)\n",
    "![RNN](images/rnn.png)\n",
    "A basic RNN model is a good baseline for sequence data.  In this model, you'll build a RNN that translates English to French."
   ]
  },
  {
   "cell_type": "code",
   "execution_count": 12,
   "metadata": {},
   "outputs": [
    {
     "name": "stdout",
     "output_type": "stream",
     "text": [
      "Train on 110288 samples, validate on 27573 samples\n",
      "Epoch 1/10\n",
      "110288/110288 [==============================] - 9s 82us/step - loss: 3.4119 - acc: 0.4158 - val_loss: nan - val_acc: 0.4615\n",
      "Epoch 2/10\n",
      "110288/110288 [==============================] - 8s 74us/step - loss: 2.4222 - acc: 0.4700 - val_loss: nan - val_acc: 0.4915\n",
      "Epoch 3/10\n",
      "110288/110288 [==============================] - 8s 75us/step - loss: 2.1365 - acc: 0.5098 - val_loss: nan - val_acc: 0.5341\n",
      "Epoch 4/10\n",
      "110288/110288 [==============================] - 8s 75us/step - loss: 1.9183 - acc: 0.5485 - val_loss: nan - val_acc: 0.5617\n",
      "Epoch 5/10\n",
      "110288/110288 [==============================] - 8s 75us/step - loss: 1.7799 - acc: 0.5716 - val_loss: nan - val_acc: 0.5795\n",
      "Epoch 6/10\n",
      "110288/110288 [==============================] - 8s 74us/step - loss: 1.6870 - acc: 0.5846 - val_loss: nan - val_acc: 0.5933\n",
      "Epoch 7/10\n",
      "110288/110288 [==============================] - 8s 75us/step - loss: 1.6185 - acc: 0.5963 - val_loss: nan - val_acc: 0.5992\n",
      "Epoch 8/10\n",
      "110288/110288 [==============================] - 8s 74us/step - loss: 1.5646 - acc: 0.6019 - val_loss: nan - val_acc: 0.6045\n",
      "Epoch 9/10\n",
      "110288/110288 [==============================] - 8s 76us/step - loss: 1.5195 - acc: 0.6068 - val_loss: nan - val_acc: 0.6112\n",
      "Epoch 10/10\n",
      "110288/110288 [==============================] - 8s 75us/step - loss: 1.4803 - acc: 0.6121 - val_loss: nan - val_acc: 0.6136\n",
      "new jersey est parfois chaud en en et il est est en en <PAD> <PAD> <PAD> <PAD> <PAD> <PAD> <PAD> <PAD>\n"
     ]
    }
   ],
   "source": [
    "from keras.models import Sequential\n",
    "from keras.layers import Dense, Activation, GRU, RepeatVector, TimeDistributed, LSTM\n",
    "\n",
    "def simple_model(input_shape, output_sequence_length, english_vocab_size, french_vocab_size):\n",
    "    \"\"\"\n",
    "    Build and train a basic RNN on x and y\n",
    "    :param input_shape: Tuple of input shape\n",
    "    :param output_sequence_length: Length of output sequence\n",
    "    :param english_vocab_size: Number of unique English words in the dataset\n",
    "    :param french_vocab_size: Number of unique French words in the dataset\n",
    "    :return: Keras model built, but not trained\n",
    "    \"\"\"\n",
    "    # TODO: Build the layers\n",
    "    HIDDEN_SIZE = 64\n",
    "    \n",
    "    model = Sequential()\n",
    "    model.add(LSTM(HIDDEN_SIZE, input_shape=input_shape[1:], return_sequences=True))\n",
    "    model.add(TimeDistributed(Dense(french_vocab_size, activation='softmax')))\n",
    "\n",
    "    lr = 1e-3\n",
    "    model.compile(loss=sparse_categorical_crossentropy,\n",
    "                  optimizer=Adam(lr),\n",
    "                  metrics=['accuracy'])\n",
    "    return model\n",
    "tests.test_simple_model(simple_model)\n",
    "\n",
    "# Reshaping the input to work with a basic RNN\n",
    "tmp_x = pad(preproc_english_sentences, max_french_sequence_length)\n",
    "tmp_x = tmp_x.reshape((-1, preproc_french_sentences.shape[-2], 1))\n",
    "\n",
    "# Train the neural network\n",
    "simple_rnn_model = simple_model(\n",
    "    tmp_x.shape,\n",
    "    max_french_sequence_length,\n",
    "    english_vocab_size,\n",
    "    french_vocab_size)\n",
    "simple_rnn_model.fit(tmp_x, preproc_french_sentences, batch_size=1024, epochs=10, validation_split=0.2)\n",
    "\n",
    "# Print prediction(s)\n",
    "print(logits_to_text(simple_rnn_model.predict(tmp_x[:1])[0], french_tokenizer))"
   ]
  },
  {
   "cell_type": "markdown",
   "metadata": {},
   "source": [
    "### Model 2: Embedding (IMPLEMENTATION)\n",
    "![RNN](images/embedding.png)\n",
    "You've turned the words into ids, but there's a better representation of a word.  This is called word embeddings.  An embedding is a vector representation of the word that is close to similar words in n-dimensional space, where the n represents the size of the embedding vectors.\n",
    "\n",
    "In this model, you'll create a RNN model using embedding."
   ]
  },
  {
   "cell_type": "code",
   "execution_count": 13,
   "metadata": {},
   "outputs": [
    {
     "name": "stdout",
     "output_type": "stream",
     "text": [
      "Train on 110288 samples, validate on 27573 samples\n",
      "Epoch 1/10\n",
      "110288/110288 [==============================] - 9s 85us/step - loss: 3.6743 - acc: 0.4013 - val_loss: nan - val_acc: 0.4095\n",
      "Epoch 2/10\n",
      "110288/110288 [==============================] - 9s 81us/step - loss: 2.5690 - acc: 0.4594 - val_loss: nan - val_acc: 0.5000\n",
      "Epoch 3/10\n",
      "110288/110288 [==============================] - 9s 80us/step - loss: 2.0127 - acc: 0.5325 - val_loss: nan - val_acc: 0.5801\n",
      "Epoch 4/10\n",
      "110288/110288 [==============================] - 9s 81us/step - loss: 1.6111 - acc: 0.6117 - val_loss: nan - val_acc: 0.6459\n",
      "Epoch 5/10\n",
      "110288/110288 [==============================] - 9s 81us/step - loss: 1.3175 - acc: 0.6745 - val_loss: nan - val_acc: 0.7040\n",
      "Epoch 6/10\n",
      "110288/110288 [==============================] - 9s 81us/step - loss: 1.0788 - acc: 0.7318 - val_loss: nan - val_acc: 0.7550\n",
      "Epoch 7/10\n",
      "110288/110288 [==============================] - 9s 80us/step - loss: 0.9076 - acc: 0.7673 - val_loss: nan - val_acc: 0.7810\n",
      "Epoch 8/10\n",
      "110288/110288 [==============================] - 9s 81us/step - loss: 0.7881 - acc: 0.7895 - val_loss: nan - val_acc: 0.7992\n",
      "Epoch 9/10\n",
      "110288/110288 [==============================] - 9s 81us/step - loss: 0.7064 - acc: 0.8047 - val_loss: nan - val_acc: 0.8106\n",
      "Epoch 10/10\n",
      "110288/110288 [==============================] - 9s 81us/step - loss: 0.6459 - acc: 0.8158 - val_loss: nan - val_acc: 0.8218\n",
      "new jersey est parfois calme en l' et il est est en en <PAD> <PAD> <PAD> <PAD> <PAD> <PAD> <PAD> <PAD>\n"
     ]
    }
   ],
   "source": [
    "def embed_model(input_shape, output_sequence_length, english_vocab_size, french_vocab_size):\n",
    "    \"\"\"\n",
    "    Build and train a RNN model using word embedding on x and y\n",
    "    :param input_shape: Tuple of input shape\n",
    "    :param output_sequence_length: Length of output sequence\n",
    "    :param english_vocab_size: Number of unique English words in the dataset\n",
    "    :param french_vocab_size: Number of unique French words in the dataset\n",
    "    :return: Keras model built, but not trained\n",
    "    \"\"\"\n",
    "    # TODO: Implement\n",
    "    EMBED_SIZE = 128\n",
    "    HIDDEN_SIZE = 64\n",
    "\n",
    "    model = Sequential()\n",
    "    model.add(Embedding(input_dim=english_vocab_size, output_dim=EMBED_SIZE, input_length=input_shape[1]))\n",
    "    model.add(LSTM(HIDDEN_SIZE, return_sequences=True))\n",
    "    model.add(TimeDistributed(Dense(french_vocab_size, activation='softmax')))\n",
    "\n",
    "    lr = 1e-3\n",
    "    model.compile(loss=sparse_categorical_crossentropy,\n",
    "                  optimizer=Adam(lr),\n",
    "                  metrics=['accuracy'])\n",
    "    return model\n",
    "tests.test_embed_model(embed_model)\n",
    "\n",
    "# Reshaping the input to work with a embedding rnn\n",
    "tmp_x = pad(preproc_english_sentences, max_french_sequence_length)\n",
    "tmp_x = tmp_x.reshape(-1, preproc_french_sentences.shape[1])\n",
    "\n",
    "# Train the neural network\n",
    "embed_model = embed_model(\n",
    "    tmp_x.shape,\n",
    "    max_french_sequence_length,\n",
    "    english_vocab_size,\n",
    "    french_vocab_size)\n",
    "embed_model.fit(tmp_x, preproc_french_sentences, batch_size=1024, epochs=10, validation_split=0.2)\n",
    "\n",
    "# Print prediction(s)\n",
    "print(logits_to_text(embed_model.predict(tmp_x[:1])[0], french_tokenizer))"
   ]
  },
  {
   "cell_type": "markdown",
   "metadata": {},
   "source": [
    "### Model 3: Bidirectional RNNs (IMPLEMENTATION)\n",
    "![RNN](images/bidirectional.png)\n",
    "One restriction of a RNN is that it can't see the future input, only the past.  This is where bidirectional recurrent neural networks come in.  They are able to see the future data."
   ]
  },
  {
   "cell_type": "code",
   "execution_count": 14,
   "metadata": {},
   "outputs": [
    {
     "name": "stdout",
     "output_type": "stream",
     "text": [
      "Train on 110288 samples, validate on 27573 samples\n",
      "Epoch 1/10\n",
      "110288/110288 [==============================] - 13s 116us/step - loss: 3.2103 - acc: 0.4414 - val_loss: nan - val_acc: 0.5003\n",
      "Epoch 2/10\n",
      "110288/110288 [==============================] - 12s 110us/step - loss: 1.9604 - acc: 0.5350 - val_loss: nan - val_acc: 0.5662\n",
      "Epoch 3/10\n",
      "110288/110288 [==============================] - 12s 110us/step - loss: 1.6673 - acc: 0.5789 - val_loss: nan - val_acc: 0.5918\n",
      "Epoch 4/10\n",
      "110288/110288 [==============================] - 12s 109us/step - loss: 1.5336 - acc: 0.6043 - val_loss: nan - val_acc: 0.6109\n",
      "Epoch 5/10\n",
      "110288/110288 [==============================] - 12s 110us/step - loss: 1.4508 - acc: 0.6143 - val_loss: nan - val_acc: 0.6178\n",
      "Epoch 6/10\n",
      "110288/110288 [==============================] - 12s 110us/step - loss: 1.3896 - acc: 0.6229 - val_loss: nan - val_acc: 0.6278\n",
      "Epoch 7/10\n",
      "110288/110288 [==============================] - 12s 109us/step - loss: 1.3407 - acc: 0.6309 - val_loss: nan - val_acc: 0.6338\n",
      "Epoch 8/10\n",
      "110288/110288 [==============================] - 12s 110us/step - loss: 1.3020 - acc: 0.6376 - val_loss: nan - val_acc: 0.6404\n",
      "Epoch 9/10\n",
      "110288/110288 [==============================] - 12s 110us/step - loss: 1.2695 - acc: 0.6436 - val_loss: nan - val_acc: 0.6469\n",
      "Epoch 10/10\n",
      "110288/110288 [==============================] - 12s 111us/step - loss: 1.2422 - acc: 0.6484 - val_loss: nan - val_acc: 0.6498\n",
      "new jersey est parfois chaud en en et il est est en en <PAD> <PAD> <PAD> <PAD> <PAD> <PAD> <PAD> <PAD>\n"
     ]
    }
   ],
   "source": [
    "def bd_model(input_shape, output_sequence_length, english_vocab_size, french_vocab_size):\n",
    "    \"\"\"\n",
    "    Build and train a bidirectional RNN model on x and y\n",
    "    :param input_shape: Tuple of input shape\n",
    "    :param output_sequence_length: Length of output sequence\n",
    "    :param english_vocab_size: Number of unique English words in the dataset\n",
    "    :param french_vocab_size: Number of unique French words in the dataset\n",
    "    :return: Keras model built, but not trained\n",
    "    \"\"\"\n",
    "    # TODO: Implement\n",
    "    HIDDEN_SIZE = 64\n",
    "\n",
    "    model = Sequential()\n",
    "    model.add(Bidirectional(LSTM(HIDDEN_SIZE, return_sequences=True), input_shape=(input_shape[1:])))\n",
    "    model.add(TimeDistributed(Dense(french_vocab_size, activation='softmax')))\n",
    "\n",
    "    lr = 1e-3\n",
    "    model.compile(loss=sparse_categorical_crossentropy,\n",
    "                  optimizer=Adam(lr),\n",
    "                  metrics=['accuracy'])\n",
    "    return model\n",
    "tests.test_bd_model(bd_model)\n",
    "\n",
    "# TODO: Train and Print prediction(s)\n",
    "\n",
    "# Reshaping the input to work with a bidirectional rnn\n",
    "tmp_x = pad(preproc_english_sentences, max_french_sequence_length)\n",
    "tmp_x = tmp_x.reshape((-1, preproc_french_sentences.shape[-2], 1))\n",
    "\n",
    "# Train the neural network\n",
    "bd_model = bd_model(\n",
    "    tmp_x.shape,\n",
    "    max_french_sequence_length,\n",
    "    english_vocab_size,\n",
    "    french_vocab_size)\n",
    "bd_model.fit(tmp_x, preproc_french_sentences, batch_size=1024, epochs=10, validation_split=0.2)\n",
    "\n",
    "# Print prediction(s)\n",
    "print(logits_to_text(bd_model.predict(tmp_x[:1])[0], french_tokenizer))"
   ]
  },
  {
   "cell_type": "markdown",
   "metadata": {},
   "source": [
    "### Model 4: Encoder-Decoder (OPTIONAL)\n",
    "Time to look at encoder-decoder models.  This model is made up of an encoder and decoder. The encoder creates a matrix representation of the sentence.  The decoder takes this matrix as input and predicts the translation as output.\n",
    "\n",
    "Create an encoder-decoder model in the cell below."
   ]
  },
  {
   "cell_type": "code",
   "execution_count": null,
   "metadata": {},
   "outputs": [],
   "source": [
    "def encdec_model(input_shape, output_sequence_length, english_vocab_size, french_vocab_size):\n",
    "    \"\"\"\n",
    "    Build and train an encoder-decoder model on x and y\n",
    "    :param input_shape: Tuple of input shape\n",
    "    :param output_sequence_length: Length of output sequence\n",
    "    :param english_vocab_size: Number of unique English words in the dataset\n",
    "    :param french_vocab_size: Number of unique French words in the dataset\n",
    "    :return: Keras model built, but not trained\n",
    "    \"\"\"\n",
    "    # OPTIONAL: Implement\n",
    "    HIDDEN_SIZE=64\n",
    "    \n",
    "    model = Sequential()\n",
    "    model.add(LSTM(HIDDEN_SIZE, input_shape=(output_sequence_length, 1)))\n",
    "    model.add(RepeatVector(input_shape[1]))\n",
    "    model.add(LSTM(HIDDEN_SIZE, return_sequences=True))\n",
    "    model.add(TimeDistributed(Dense(french_vocab_size)))\n",
    "\n",
    "    lr = 1e-3\n",
    "    model.compile(loss=sparse_categorical_crossentropy,\n",
    "                  optimizer=Adam(lr),\n",
    "                  metrics=['accuracy'])\n",
    "    return model\n",
    "tests.test_encdec_model(encdec_model)\n",
    "\n",
    "# OPTIONAL: Train and Print prediction(s)\n"
   ]
  },
  {
   "cell_type": "markdown",
   "metadata": {},
   "source": [
    "### Model 5: Custom (IMPLEMENTATION)\n",
    "Use everything you learned from the previous models to create a model that incorporates embedding and a bidirectional rnn into one model."
   ]
  },
  {
   "cell_type": "code",
   "execution_count": 36,
   "metadata": {},
   "outputs": [
    {
     "name": "stdout",
     "output_type": "stream",
     "text": [
      "Final Model Loaded\n",
      "Train on 110288 samples, validate on 27573 samples\n",
      "Epoch 1/20\n",
      "110288/110288 [==============================] - 19s 174us/step - loss: 3.3506 - acc: 0.4307 - val_loss: nan - val_acc: 0.4843\n",
      "Epoch 2/20\n",
      "110288/110288 [==============================] - 17s 153us/step - loss: 2.1923 - acc: 0.5083 - val_loss: nan - val_acc: 0.5533\n",
      "Epoch 3/20\n",
      "110288/110288 [==============================] - 17s 152us/step - loss: 1.6312 - acc: 0.6001 - val_loss: nan - val_acc: 0.6573\n",
      "Epoch 4/20\n",
      "110288/110288 [==============================] - 17s 152us/step - loss: 1.1920 - acc: 0.6948 - val_loss: nan - val_acc: 0.7357\n",
      "Epoch 5/20\n",
      "110288/110288 [==============================] - 17s 152us/step - loss: 0.8966 - acc: 0.7608 - val_loss: nan - val_acc: 0.7839\n",
      "Epoch 6/20\n",
      "110288/110288 [==============================] - 17s 152us/step - loss: 0.7335 - acc: 0.7950 - val_loss: nan - val_acc: 0.8072\n",
      "Epoch 7/20\n",
      "110288/110288 [==============================] - 17s 155us/step - loss: 0.6331 - acc: 0.8166 - val_loss: nan - val_acc: 0.8273\n",
      "Epoch 8/20\n",
      "110288/110288 [==============================] - 17s 154us/step - loss: 0.5595 - acc: 0.8352 - val_loss: nan - val_acc: 0.8453\n",
      "Epoch 9/20\n",
      "110288/110288 [==============================] - 17s 153us/step - loss: 0.5020 - acc: 0.8517 - val_loss: nan - val_acc: 0.8586\n",
      "Epoch 10/20\n",
      "110288/110288 [==============================] - 17s 154us/step - loss: 0.4568 - acc: 0.8649 - val_loss: nan - val_acc: 0.8713\n",
      "Epoch 11/20\n",
      "110288/110288 [==============================] - 17s 153us/step - loss: 0.4213 - acc: 0.8755 - val_loss: nan - val_acc: 0.8810\n",
      "Epoch 12/20\n",
      "110288/110288 [==============================] - 17s 154us/step - loss: 0.3921 - acc: 0.8846 - val_loss: nan - val_acc: 0.8888\n",
      "Epoch 13/20\n",
      "110288/110288 [==============================] - 17s 152us/step - loss: 0.3667 - acc: 0.8926 - val_loss: nan - val_acc: 0.8950\n",
      "Epoch 14/20\n",
      "110288/110288 [==============================] - 17s 152us/step - loss: 0.3460 - acc: 0.8988 - val_loss: nan - val_acc: 0.9005\n",
      "Epoch 15/20\n",
      "110288/110288 [==============================] - 17s 153us/step - loss: 0.3259 - acc: 0.9048 - val_loss: nan - val_acc: 0.9056\n",
      "Epoch 16/20\n",
      "110288/110288 [==============================] - 17s 153us/step - loss: 0.3094 - acc: 0.9098 - val_loss: nan - val_acc: 0.9116\n",
      "Epoch 17/20\n",
      "110288/110288 [==============================] - 17s 153us/step - loss: 0.2936 - acc: 0.9147 - val_loss: nan - val_acc: 0.9146\n",
      "Epoch 18/20\n",
      "110288/110288 [==============================] - 17s 153us/step - loss: 0.2791 - acc: 0.9193 - val_loss: nan - val_acc: 0.9201\n",
      "Epoch 19/20\n",
      "110288/110288 [==============================] - 17s 153us/step - loss: 0.2666 - acc: 0.9232 - val_loss: nan - val_acc: 0.9238\n",
      "Epoch 20/20\n",
      "110288/110288 [==============================] - 17s 153us/step - loss: 0.2548 - acc: 0.9268 - val_loss: nan - val_acc: 0.9266\n",
      "new jersey est parfois calme pendant l' et il est il il en <PAD> <PAD> <PAD> <PAD> <PAD> <PAD> <PAD> <PAD>\n"
     ]
    }
   ],
   "source": [
    "def model_final(input_shape, output_sequence_length, english_vocab_size, french_vocab_size):\n",
    "    \"\"\"\n",
    "    Build and train a model that incorporates embedding, encoder-decoder, and bidirectional RNN on x and y\n",
    "    :param input_shape: Tuple of input shape\n",
    "    :param output_sequence_length: Length of output sequence\n",
    "    :param english_vocab_size: Number of unique English words in the dataset\n",
    "    :param french_vocab_size: Number of unique French words in the dataset\n",
    "    :return: Keras model built, but not trained\n",
    "    \"\"\"\n",
    "    # TODO: Implement\n",
    "    EMBED_SIZE = 128\n",
    "    HIDDEN_SIZE = 64\n",
    "\n",
    "    model = Sequential()\n",
    "    model.add(Embedding(input_dim=english_vocab_size, output_dim=EMBED_SIZE, input_length=input_shape[1]))\n",
    "    model.add(Bidirectional(LSTM(HIDDEN_SIZE, return_sequences=True, recurrent_dropout=0.3)))\n",
    "    model.add(TimeDistributed(Dense(french_vocab_size, activation='softmax')))\n",
    "\n",
    "    lr = 1e-3\n",
    "    model.compile(loss=sparse_categorical_crossentropy,\n",
    "                  optimizer=Adam(lr),\n",
    "                  metrics=['accuracy'])\n",
    "    return model\n",
    "tests.test_model_final(model_final)\n",
    "\n",
    "print('Final Model Loaded')\n",
    "\n",
    "# TODO: Train the final model\n",
    "\n",
    "# Reshaping the input to work with a final model\n",
    "tmp_x = pad(preproc_english_sentences, max_french_sequence_length)\n",
    "tmp_x = tmp_x.reshape(-1, preproc_french_sentences.shape[1])\n",
    "\n",
    "# Train the neural network\n",
    "final_model = model_final(\n",
    "    tmp_x.shape,\n",
    "    max_french_sequence_length,\n",
    "    english_vocab_size,\n",
    "    french_vocab_size)\n",
    "final_model.fit(tmp_x, preproc_french_sentences, batch_size=1024, epochs=20, validation_split=0.2)\n",
    "\n",
    "# Print prediction(s)\n",
    "print(logits_to_text(final_model.predict(tmp_x[:1])[0], french_tokenizer))"
   ]
  },
  {
   "cell_type": "markdown",
   "metadata": {},
   "source": [
    "## Prediction (IMPLEMENTATION)"
   ]
  },
  {
   "cell_type": "code",
   "execution_count": 35,
   "metadata": {
    "scrolled": false
   },
   "outputs": [
    {
     "name": "stdout",
     "output_type": "stream",
     "text": [
      "Train on 110288 samples, validate on 27573 samples\n",
      "Epoch 1/40\n",
      "110288/110288 [==============================] - 19s 169us/step - loss: 3.3074 - acc: 0.4414 - val_loss: nan - val_acc: 0.4797\n",
      "Epoch 2/40\n",
      "110288/110288 [==============================] - 17s 151us/step - loss: 2.1732 - acc: 0.5052 - val_loss: nan - val_acc: 0.5359\n",
      "Epoch 3/40\n",
      "110288/110288 [==============================] - 17s 151us/step - loss: 1.6835 - acc: 0.5895 - val_loss: nan - val_acc: 0.6288\n",
      "Epoch 4/40\n",
      "110288/110288 [==============================] - 17s 151us/step - loss: 1.2898 - acc: 0.6698 - val_loss: nan - val_acc: 0.7055\n",
      "Epoch 5/40\n",
      "110288/110288 [==============================] - 17s 152us/step - loss: 1.0016 - acc: 0.7374 - val_loss: nan - val_acc: 0.7618\n",
      "Epoch 6/40\n",
      "110288/110288 [==============================] - 17s 151us/step - loss: 0.8174 - acc: 0.7771 - val_loss: nan - val_acc: 0.7921\n",
      "Epoch 7/40\n",
      "110288/110288 [==============================] - 17s 153us/step - loss: 0.6942 - acc: 0.8042 - val_loss: nan - val_acc: 0.8156\n",
      "Epoch 8/40\n",
      "110288/110288 [==============================] - 17s 152us/step - loss: 0.6045 - acc: 0.8265 - val_loss: nan - val_acc: 0.8360\n",
      "Epoch 9/40\n",
      "110288/110288 [==============================] - 17s 152us/step - loss: 0.5398 - acc: 0.8434 - val_loss: nan - val_acc: 0.8467\n",
      "Epoch 10/40\n",
      "110288/110288 [==============================] - 17s 152us/step - loss: 0.4914 - acc: 0.8565 - val_loss: nan - val_acc: 0.8642\n",
      "Epoch 11/40\n",
      "110288/110288 [==============================] - 17s 152us/step - loss: 0.4523 - acc: 0.8674 - val_loss: nan - val_acc: 0.8744\n",
      "Epoch 12/40\n",
      "110288/110288 [==============================] - 17s 151us/step - loss: 0.4193 - acc: 0.8773 - val_loss: nan - val_acc: 0.8780\n",
      "Epoch 13/40\n",
      "110288/110288 [==============================] - 17s 151us/step - loss: 0.3921 - acc: 0.8853 - val_loss: nan - val_acc: 0.8898\n",
      "Epoch 14/40\n",
      "110288/110288 [==============================] - 17s 151us/step - loss: 0.3681 - acc: 0.8922 - val_loss: nan - val_acc: 0.8941\n",
      "Epoch 15/40\n",
      "110288/110288 [==============================] - 17s 151us/step - loss: 0.3486 - acc: 0.8974 - val_loss: nan - val_acc: 0.8995\n",
      "Epoch 16/40\n",
      "110288/110288 [==============================] - 17s 151us/step - loss: 0.3306 - acc: 0.9024 - val_loss: nan - val_acc: 0.9055\n",
      "Epoch 17/40\n",
      "110288/110288 [==============================] - 17s 151us/step - loss: 0.3129 - acc: 0.9077 - val_loss: nan - val_acc: 0.9078\n",
      "Epoch 18/40\n",
      "110288/110288 [==============================] - 17s 152us/step - loss: 0.2986 - acc: 0.9117 - val_loss: nan - val_acc: 0.9140\n",
      "Epoch 19/40\n",
      "110288/110288 [==============================] - 17s 151us/step - loss: 0.2847 - acc: 0.9159 - val_loss: nan - val_acc: 0.9162\n",
      "Epoch 20/40\n",
      "110288/110288 [==============================] - 17s 153us/step - loss: 0.2726 - acc: 0.9195 - val_loss: nan - val_acc: 0.9192\n",
      "Epoch 21/40\n",
      "110288/110288 [==============================] - 17s 151us/step - loss: 0.2617 - acc: 0.9228 - val_loss: nan - val_acc: 0.9242\n",
      "Epoch 22/40\n",
      "110288/110288 [==============================] - 17s 151us/step - loss: 0.2515 - acc: 0.9260 - val_loss: nan - val_acc: 0.9262\n",
      "Epoch 23/40\n",
      "110288/110288 [==============================] - 17s 151us/step - loss: 0.2412 - acc: 0.9291 - val_loss: nan - val_acc: 0.9278\n",
      "Epoch 24/40\n",
      "110288/110288 [==============================] - 17s 152us/step - loss: 0.2334 - acc: 0.9315 - val_loss: nan - val_acc: 0.9317\n",
      "Epoch 25/40\n",
      "110288/110288 [==============================] - 17s 151us/step - loss: 0.2259 - acc: 0.9336 - val_loss: nan - val_acc: 0.9340\n",
      "Epoch 26/40\n",
      "110288/110288 [==============================] - 17s 151us/step - loss: 0.2174 - acc: 0.9364 - val_loss: nan - val_acc: 0.9351\n",
      "Epoch 27/40\n",
      "110288/110288 [==============================] - 17s 152us/step - loss: 0.2103 - acc: 0.9383 - val_loss: nan - val_acc: 0.9381\n",
      "Epoch 28/40\n",
      "110288/110288 [==============================] - 17s 151us/step - loss: 0.2042 - acc: 0.9402 - val_loss: nan - val_acc: 0.9391\n",
      "Epoch 29/40\n",
      "110288/110288 [==============================] - 17s 151us/step - loss: 0.1988 - acc: 0.9417 - val_loss: nan - val_acc: 0.9415\n",
      "Epoch 30/40\n",
      "110288/110288 [==============================] - 17s 151us/step - loss: 0.1910 - acc: 0.9444 - val_loss: nan - val_acc: 0.9432\n",
      "Epoch 31/40\n",
      "110288/110288 [==============================] - 17s 151us/step - loss: 0.1872 - acc: 0.9454 - val_loss: nan - val_acc: 0.9443\n",
      "Epoch 32/40\n",
      "110288/110288 [==============================] - 17s 151us/step - loss: 0.1808 - acc: 0.9475 - val_loss: nan - val_acc: 0.9448\n",
      "Epoch 33/40\n",
      "110288/110288 [==============================] - 17s 151us/step - loss: 0.1764 - acc: 0.9487 - val_loss: nan - val_acc: 0.9477\n",
      "Epoch 34/40\n",
      "110288/110288 [==============================] - 17s 152us/step - loss: 0.1707 - acc: 0.9507 - val_loss: nan - val_acc: 0.9492\n",
      "Epoch 35/40\n",
      "110288/110288 [==============================] - 17s 151us/step - loss: 0.1660 - acc: 0.9521 - val_loss: nan - val_acc: 0.9504\n",
      "Epoch 36/40\n",
      "110288/110288 [==============================] - 17s 151us/step - loss: 0.1625 - acc: 0.9531 - val_loss: nan - val_acc: 0.9504\n",
      "Epoch 37/40\n",
      "110288/110288 [==============================] - 17s 152us/step - loss: 0.1583 - acc: 0.9544 - val_loss: nan - val_acc: 0.9518\n",
      "Epoch 38/40\n",
      "110288/110288 [==============================] - 17s 152us/step - loss: 0.1548 - acc: 0.9556 - val_loss: nan - val_acc: 0.9536\n",
      "Epoch 39/40\n",
      "110288/110288 [==============================] - 16s 149us/step - loss: 0.1523 - acc: 0.9563 - val_loss: nan - val_acc: 0.9543\n",
      "Epoch 40/40\n",
      "110288/110288 [==============================] - 17s 151us/step - loss: 0.1483 - acc: 0.9575 - val_loss: nan - val_acc: 0.9536\n",
      "Sample 1:\n",
      "il a vu un vieux camion jaune <PAD> <PAD> <PAD> <PAD> <PAD> <PAD> <PAD> <PAD> <PAD> <PAD> <PAD> <PAD> <PAD> <PAD>\n",
      "Il a vu un vieux camion jaune\n",
      "Sample 2:\n",
      "new jersey est parfois calme au l' automne il il est neigeux en avril <PAD> <PAD> <PAD> <PAD> <PAD> <PAD> <PAD>\n",
      "new jersey est parfois calme pendant l' automne et il est neigeux en avril <PAD> <PAD> <PAD> <PAD> <PAD> <PAD> <PAD>\n"
     ]
    }
   ],
   "source": [
    "def final_predictions(x, y, x_tk, y_tk):\n",
    "    \"\"\"\n",
    "    Gets predictions using the final model\n",
    "    :param x: Preprocessed English data\n",
    "    :param y: Preprocessed French data\n",
    "    :param x_tk: English tokenizer\n",
    "    :param y_tk: French tokenizer\n",
    "    \"\"\"\n",
    "    # TODO: Train neural network using model_final\n",
    "    max_english_sequence_length = x.shape[1]\n",
    "    max_french_sequence_length = y.shape[1]\n",
    "    english_vocab_size = len(x_tk.word_index)\n",
    "    french_vocab_size = len(y_tk.word_index)\n",
    "    \n",
    "    x = pad(x, max_french_sequence_length)\n",
    "    x = x.reshape((-1, y.shape[-2]))\n",
    "\n",
    "    # Train the neural network\n",
    "    model = model_final(\n",
    "        tmp_x.shape,\n",
    "        max_french_sequence_length,\n",
    "        english_vocab_size,\n",
    "        french_vocab_size)\n",
    "    model.fit(tmp_x, preproc_french_sentences, batch_size=1024, epochs=40, validation_split=0.2)\n",
    "        \n",
    "    x_id_to_word = {value: key for key, value in x_tk.word_index.items()}\n",
    "    x_id_to_word[0] = '<PAD>'\n",
    "\n",
    "    ## DON'T EDIT ANYTHING BELOW THIS LINE\n",
    "    y_id_to_word = {value: key for key, value in y_tk.word_index.items()}\n",
    "    y_id_to_word[0] = '<PAD>'\n",
    "\n",
    "    sentence = 'he saw a old yellow truck'\n",
    "    sentence = [x_tk.word_index[word] for word in sentence.split()]\n",
    "    sentence = pad_sequences([sentence], maxlen=x.shape[-1], padding='post')\n",
    "    sentences = np.array([sentence[0], x[0]])\n",
    "    \n",
    "    #print(' '.join([x_id_to_word[np.max(x)] for x in sentences[1]]))\n",
    "    predictions = model.predict(sentences, len(sentences))\n",
    "\n",
    "    print('Sample 1:')\n",
    "    print(' '.join([y_id_to_word[np.argmax(x)] for x in predictions[0]]))\n",
    "    print('Il a vu un vieux camion jaune')\n",
    "    print('Sample 2:')\n",
    "    print(' '.join([y_id_to_word[np.argmax(x)] for x in predictions[1]]))\n",
    "    print(' '.join([y_id_to_word[np.max(x)] for x in y[0]]))\n",
    "\n",
    "final_predictions(preproc_english_sentences, preproc_french_sentences, english_tokenizer, french_tokenizer)"
   ]
  },
  {
   "cell_type": "markdown",
   "metadata": {},
   "source": [
    "## Submission\n",
    "When you're ready to submit, complete the following steps:\n",
    "1. Review the [rubric](https://review.udacity.com/#!/rubrics/1004/view) to ensure your submission meets all requirements to pass\n",
    "2. Generate an HTML version of this notebook\n",
    "\n",
    "  - Run the next cell to attempt automatic generation (this is the recommended method in Workspaces)\n",
    "  - Navigate to **FILE -> Download as -> HTML (.html)**\n",
    "  - Manually generate a copy using `nbconvert` from your shell terminal\n",
    "```\n",
    "$ pip install nbconvert\n",
    "$ python -m nbconvert machine_translation.ipynb\n",
    "```\n",
    "  \n",
    "3. Submit the project\n",
    "\n",
    "  - If you are in a Workspace, simply click the \"Submit Project\" button (bottom towards the right)\n",
    "  \n",
    "  - Otherwise, add the following files into a zip archive and submit them \n",
    "  - `helper.py`\n",
    "  - `machine_translation.ipynb`\n",
    "  - `machine_translation.html`\n",
    "    - You can export the notebook by navigating to **File -> Download as -> HTML (.html)**."
   ]
  },
  {
   "cell_type": "markdown",
   "metadata": {},
   "source": [
    "### Generate the html\n",
    "\n",
    "**Save your notebook before running the next cell to generate the HTML output.** Then submit your project."
   ]
  },
  {
   "cell_type": "code",
   "execution_count": 41,
   "metadata": {},
   "outputs": [
    {
     "data": {
      "text/plain": [
       "['[NbConvertApp] Converting notebook machine_translation.ipynb to html',\n",
       " '[NbConvertApp] Writing 374337 bytes to machine_translation.html',\n",
       " '[NbConvertApp] Converting notebook machine_translation-zh.ipynb to html',\n",
       " '[NbConvertApp] Writing 328614 bytes to machine_translation-zh.html']"
      ]
     },
     "execution_count": 41,
     "metadata": {},
     "output_type": "execute_result"
    }
   ],
   "source": [
    "# Save before you run this cell!\n",
    "!!jupyter nbconvert *.ipynb"
   ]
  },
  {
   "cell_type": "markdown",
   "metadata": {},
   "source": [
    "## Optional Enhancements\n",
    "\n",
    "This project focuses on learning various network architectures for machine translation, but we don't evaluate the models according to best practices by splitting the data into separate test & training sets -- so the model accuracy is overstated. Use the [`sklearn.model_selection.train_test_split()`](http://scikit-learn.org/stable/modules/generated/sklearn.model_selection.train_test_split.html) function to create separate training & test datasets, then retrain each of the models using only the training set and evaluate the prediction accuracy using the hold out test set. Does the \"best\" model change?"
   ]
  }
 ],
 "metadata": {
  "kernelspec": {
   "display_name": "Python 3",
   "language": "python",
   "name": "python3"
  },
  "language_info": {
   "codemirror_mode": {
    "name": "ipython",
    "version": 3
   },
   "file_extension": ".py",
   "mimetype": "text/x-python",
   "name": "python",
   "nbconvert_exporter": "python",
   "pygments_lexer": "ipython3",
   "version": "3.6.3"
  }
 },
 "nbformat": 4,
 "nbformat_minor": 1
}
